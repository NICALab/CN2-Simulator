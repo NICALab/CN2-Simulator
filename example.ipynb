{
 "cells": [
  {
   "cell_type": "code",
   "execution_count": null,
   "id": "70a73639-d4b5-4944-8a4e-2f7192cf54ea",
   "metadata": {},
   "outputs": [],
   "source": [
    "import yaml\n",
    "import numpy as np\n",
    "from numpy.random import default_rng\n",
    "from scipy.io import savemat\n",
    "from SimulMotif.motif_gen import *\n",
    "rng = default_rng()\n",
    "%load_ext autoreload\n",
    "%autoreload 2"
   ]
  },
  {
   "cell_type": "markdown",
   "id": "0d2c053c-b97a-4cf9-9543-28a6e768230a",
   "metadata": {},
   "source": [
    "### Generate spikes & calcium signals\n",
    "Seed have to be different for each function call to prevent generating same patterns. (set to None for full randomness)"
   ]
  },
  {
   "cell_type": "code",
   "execution_count": null,
   "id": "518834c3-806e-47de-98a2-4379b53ac2f1",
   "metadata": {},
   "outputs": [],
   "source": [
    "# Load simulation parameters\n",
    "with open(\"params.yaml\") as f:\n",
    "    params = yaml.load(f, Loader=yaml.FullLoader)"
   ]
  },
  {
   "cell_type": "code",
   "execution_count": null,
   "id": "05c29ad2-ecba-4b52-8716-a23543a0ff9d",
   "metadata": {},
   "outputs": [],
   "source": [
    "# Genereate non-motif activity\n",
    "spike_time, spike_time_motif = non_motif_gen(params, seed=0)"
   ]
  },
  {
   "cell_type": "code",
   "execution_count": null,
   "id": "4751ea99-25e8-4d63-be43-55c90bc7115b",
   "metadata": {},
   "outputs": [],
   "source": [
    "# Generate motif activity\n",
    "# (Type 1) Precise synchronous spikes\n",
    "gt1 = motif_gen(spike_time, spike_time_motif, 1, params, seed=1)"
   ]
  },
  {
   "cell_type": "code",
   "execution_count": null,
   "id": "647682a0-2f3a-488a-a66b-75af584e2b4e",
   "metadata": {},
   "outputs": [],
   "source": [
    "# (Type 2) Precise sequential spikes\n",
    "gt2 = motif_gen(spike_time, spike_time_motif, 2, params, seed=2)"
   ]
  },
  {
   "cell_type": "code",
   "execution_count": null,
   "id": "b09c797d-3fa6-46b5-aad7-a60cff1d0115",
   "metadata": {},
   "outputs": [],
   "source": [
    "# (Type 3) Precise temporal pattern\n",
    "gt3 = motif_gen(spike_time, spike_time_motif, 3, params, seed=3)"
   ]
  },
  {
   "cell_type": "code",
   "execution_count": null,
   "id": "678dfbb1-7fdf-4b90-a6e8-12b7f7c021ee",
   "metadata": {},
   "outputs": [],
   "source": [
    "# (Type 4) Rate-based synchronous pattern\n",
    "gt4 = motif_gen(spike_time, spike_time_motif, 4, params, seed=4)"
   ]
  },
  {
   "cell_type": "code",
   "execution_count": null,
   "id": "cc1f0f92-2a77-4a55-be35-650cc7b68646",
   "metadata": {},
   "outputs": [],
   "source": [
    "# (Type 5) Rate-based sequential pattern\n",
    "gt5 = motif_gen(spike_time, spike_time_motif, 5, params, seed=5)"
   ]
  },
  {
   "cell_type": "code",
   "execution_count": null,
   "id": "a1921e48-2467-49eb-b81d-d802f851b939",
   "metadata": {},
   "outputs": [],
   "source": [
    "# Convert to calcium imaging format\n",
    "calcium_signal = create_calcium(spike_time, params, seed=6)"
   ]
  },
  {
   "cell_type": "markdown",
   "id": "b37deec7-a378-4317-8b8d-0c4ae30def59",
   "metadata": {},
   "source": [
    "### Save to Matlab format"
   ]
  },
  {
   "cell_type": "code",
   "execution_count": null,
   "id": "a8ff326d-04ba-4063-82b6-7a1cc4cd3932",
   "metadata": {},
   "outputs": [],
   "source": [
    "# save spike time and motifs\n",
    "spike_time = np.array(spike_time, dtype=object)\n",
    "spike_time_motif = np.array(spike_time_motif, dtype=object)\n",
    "savemat(\"./generated_data/spike_time.mat\", {\"spike_time\": spike_time,\n",
    "                                            \"spike_time_motif\": spike_time_motif})"
   ]
  },
  {
   "cell_type": "code",
   "execution_count": null,
   "id": "bfb6850f-3af9-4b86-a756-8d9854beaed6",
   "metadata": {},
   "outputs": [],
   "source": [
    "savemat(\"./generated_data/gt_type_1.mat\", {\"gt_type_1\": gt1})"
   ]
  },
  {
   "cell_type": "code",
   "execution_count": null,
   "id": "c7bb1eca-f274-463d-93d2-b801d4151d2c",
   "metadata": {},
   "outputs": [],
   "source": [
    "savemat(\"./generated_data/gt_type_2.mat\", {\"gt_type_2\": gt2})"
   ]
  },
  {
   "cell_type": "code",
   "execution_count": null,
   "id": "71da97ad-04e1-44f7-8214-202d7b689433",
   "metadata": {},
   "outputs": [],
   "source": [
    "savemat(\"./generated_data/gt_type_3.mat\", {\"gt_type_3\": gt3})"
   ]
  },
  {
   "cell_type": "code",
   "execution_count": null,
   "id": "1559b56b-95b3-4580-9cb9-178a561ef623",
   "metadata": {},
   "outputs": [],
   "source": [
    "savemat(\"./generated_data/gt_type_4.mat\", {\"gt_type_4\": gt4})"
   ]
  },
  {
   "cell_type": "code",
   "execution_count": null,
   "id": "2eb56782-c1c3-4769-bbae-5d5c96df5eac",
   "metadata": {},
   "outputs": [],
   "source": [
    "savemat(\"./generated_data/gt_type_5.mat\", {\"gt_type_5\": gt5})"
   ]
  },
  {
   "cell_type": "code",
   "execution_count": null,
   "id": "4c3dfb94-c501-43ec-8307-d62895940928",
   "metadata": {},
   "outputs": [],
   "source": [
    "savemat(\"./generated_data/calcium_signal.mat\", {\"calcium_signal\": calcium_signal})"
   ]
  },
  {
   "cell_type": "code",
   "execution_count": null,
   "id": "4d289717-3213-4753-91e8-8f8fc0a65091",
   "metadata": {},
   "outputs": [],
   "source": []
  }
 ],
 "metadata": {
  "kernelspec": {
   "display_name": "Python 3 (ipykernel)",
   "language": "python",
   "name": "python3"
  },
  "language_info": {
   "codemirror_mode": {
    "name": "ipython",
    "version": 3
   },
   "file_extension": ".py",
   "mimetype": "text/x-python",
   "name": "python",
   "nbconvert_exporter": "python",
   "pygments_lexer": "ipython3",
   "version": "3.8.11"
  }
 },
 "nbformat": 4,
 "nbformat_minor": 5
}
